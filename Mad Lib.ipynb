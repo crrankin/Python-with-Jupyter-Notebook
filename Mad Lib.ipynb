{
 "cells": [
  {
   "cell_type": "markdown",
   "metadata": {},
   "source": [
    "This program will help us fill out a Mad Lib by using lists of words. We will supply the computer with a list of words to choose from and the computer will randomly choose a word from a list for us. "
   ]
  },
  {
   "cell_type": "markdown",
   "metadata": {},
   "source": [
    "Before we begin, we will be using Python's Random library. So we will need to include this statement at the very beginning of our program:"
   ]
  },
  {
   "cell_type": "code",
   "execution_count": 1,
   "metadata": {},
   "outputs": [],
   "source": [
    "import random"
   ]
  },
  {
   "cell_type": "markdown",
   "metadata": {},
   "source": [
    "Next, we need our list of words. Let's start with making an array of nouns."
   ]
  },
  {
   "cell_type": "code",
   "execution_count": 2,
   "metadata": {},
   "outputs": [],
   "source": [
    "nouns = ['house', 'tree', 'horse', 'minivan', 'ogre', 'tomatoes']\n"
   ]
  },
  {
   "cell_type": "markdown",
   "metadata": {},
   "source": [
    "Go ahead and create more arrays like 'nouns', but for other types of words like adverbs, adjectives, and verbs."
   ]
  },
  {
   "cell_type": "code",
   "execution_count": 3,
   "metadata": {},
   "outputs": [],
   "source": [
    "adverbs = ['quickly', 'early', 'calmly']"
   ]
  },
  {
   "cell_type": "markdown",
   "metadata": {},
   "source": [
    "After making all of our lists, we now need to have the computer print out our words. We will implement this by creating a function that will take in a number and print out that same number of words."
   ]
  },
  {
   "cell_type": "code",
   "execution_count": 9,
   "metadata": {},
   "outputs": [
    {
     "name": "stdout",
     "output_type": "stream",
     "text": [
      "squirrel\n",
      "house\n",
      "tomatoes\n",
      "tree\n",
      "tree\n"
     ]
    }
   ],
   "source": [
    "import random\n",
    "nouns = ['house', 'tree', 'horse', 'minivan', 'ogre', 'tomatoes', 'HackISU', 'squirrel', 'digital women']\n",
    "\n",
    "def noun(number):\n",
    "    for i in range(number):\n",
    "        print(random.choice(nouns))\n",
    "\n",
    "noun(5)"
   ]
  },
  {
   "cell_type": "markdown",
   "metadata": {},
   "source": [
    "Using our example from above, continue to make more functions for each type of array that you made (e.g. If you made arrays for nouns, verbs, adverbs, and adjectives, make a function for each array)."
   ]
  }
 ],
 "metadata": {
  "kernelspec": {
   "display_name": "Python 3",
   "language": "python",
   "name": "python3"
  },
  "language_info": {
   "codemirror_mode": {
    "name": "ipython",
    "version": 3
   },
   "file_extension": ".py",
   "mimetype": "text/x-python",
   "name": "python",
   "nbconvert_exporter": "python",
   "pygments_lexer": "ipython3",
   "version": "3.7.1"
  }
 },
 "nbformat": 4,
 "nbformat_minor": 2
}
